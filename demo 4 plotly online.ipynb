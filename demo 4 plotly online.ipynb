{
 "cells": [
  {
   "cell_type": "code",
   "execution_count": 3,
   "id": "851a95eb",
   "metadata": {},
   "outputs": [],
   "source": [
    "import plotly.graph_objs as go\n",
    "import numpy as np\n",
    "import plotly\n",
    "from chart_studio import plotly as py\n",
    "import chart_studio\n",
    "\n",
    "chart_studio.tools.set_credentials_file(username='Whrihaspati21', api_key='G0Fi6IyY4uS8B63v6qhQ')\n"
   ]
  },
  {
   "cell_type": "code",
   "execution_count": 5,
   "id": "024e5ae0",
   "metadata": {},
   "outputs": [
    {
     "data": {
      "text/plain": [
       "'https://plotly.com/~whrihaspati21/1/'"
      ]
     },
     "execution_count": 5,
     "metadata": {},
     "output_type": "execute_result"
    }
   ],
   "source": [
    "trace0 = go.Scatter (\n",
    "    x=[1,2,3,4],\n",
    "    y=[10,15,13,17]\n",
    ")\n",
    "trace1 = go.Scatter (\n",
    "    x=[1,2,3,4],\n",
    "    y=[16,5,11,9]\n",
    ")\n",
    "data = [trace0, trace1]\n",
    "\n",
    "py.plot(data, filename='basic-line')"
   ]
  },
  {
   "cell_type": "code",
   "execution_count": null,
   "id": "0f748861",
   "metadata": {},
   "outputs": [],
   "source": []
  }
 ],
 "metadata": {
  "kernelspec": {
   "display_name": "Python 3 (ipykernel)",
   "language": "python",
   "name": "python3"
  },
  "language_info": {
   "codemirror_mode": {
    "name": "ipython",
    "version": 3
   },
   "file_extension": ".py",
   "mimetype": "text/x-python",
   "name": "python",
   "nbconvert_exporter": "python",
   "pygments_lexer": "ipython3",
   "version": "3.9.7"
  }
 },
 "nbformat": 4,
 "nbformat_minor": 5
}
